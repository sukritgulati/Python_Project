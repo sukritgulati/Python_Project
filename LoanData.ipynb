{
 "cells": [
  {
   "cell_type": "markdown",
   "metadata": {},
   "source": [
    "# Predicting High Risk Customers For Loan Defaults"
   ]
  },
  {
   "cell_type": "markdown",
   "metadata": {},
   "source": [
    "# The files for the lending club loan data contains complete loan data for all loans issued through the 2007-2015, including the current loan status (Current, Late, Fully Paid, etc.) and latest payment information. We are attempting to determine the probability if a bank customer will default on a particular loan or not.\n",
    "\n",
    "# link: https://www.kaggle.com/wendykan/lending-club-loan-data"
   ]
  },
  {
   "cell_type": "markdown",
   "metadata": {},
   "source": [
    "###  Sukrit Gulati(A20352918), Srishti Negi(A20351640)"
   ]
  },
  {
   "cell_type": "code",
   "execution_count": 98,
   "metadata": {
    "collapsed": false
   },
   "outputs": [],
   "source": [
    "##importing all the required libraries\n",
    "import pandas as pd\n",
    "from sklearn.preprocessing import LabelEncoder\n",
    "import numpy as np\n",
    "import matplotlib.pyplot as plt\n",
    "from sklearn.feature_selection import VarianceThreshold\n",
    "from sklearn.model_selection import train_test_split\n",
    "from sklearn.ensemble import RandomForestClassifier\n",
    "from sklearn.ensemble import RandomForestClassifier as RFC\n",
    "import numpy as np\n",
    "from sklearn.linear_model import LogisticRegression\n",
    "from sklearn.metrics import accuracy_score, precision_recall_fscore_support, confusion_matrix\n",
    "from sklearn.model_selection import KFold\n",
    "%matplotlib inline"
   ]
  },
  {
   "cell_type": "code",
   "execution_count": 2,
   "metadata": {
    "collapsed": false
   },
   "outputs": [
    {
     "name": "stderr",
     "output_type": "stream",
     "text": [
      "/Users/prateekagrawal/anaconda/envs/python3/lib/python3.4/site-packages/IPython/core/interactiveshell.py:2717: DtypeWarning: Columns (19,55) have mixed types. Specify dtype option on import or set low_memory=False.\n",
      "  interactivity=interactivity, compiler=compiler, result=result)\n"
     ]
    }
   ],
   "source": [
    "##reading the data in the pandas data frame\n",
    "data = pd.read_csv(\"data/loan.csv\", header = 0)"
   ]
  },
  {
   "cell_type": "code",
   "execution_count": 3,
   "metadata": {
    "collapsed": false
   },
   "outputs": [
    {
     "data": {
      "text/plain": [
       "(887379, 74)"
      ]
     },
     "execution_count": 3,
     "metadata": {},
     "output_type": "execute_result"
    }
   ],
   "source": [
    "##printing the shape of the data\n",
    "data.shape"
   ]
  },
  {
   "cell_type": "code",
   "execution_count": 4,
   "metadata": {
    "collapsed": false,
    "scrolled": true
   },
   "outputs": [
    {
     "data": {
      "text/plain": [
       "Index(['id', 'member_id', 'loan_amnt', 'funded_amnt', 'funded_amnt_inv',\n",
       "       'term', 'int_rate', 'installment', 'grade', 'sub_grade', 'emp_title',\n",
       "       'emp_length', 'home_ownership', 'annual_inc', 'verification_status',\n",
       "       'issue_d', 'loan_status', 'pymnt_plan', 'url', 'desc', 'purpose',\n",
       "       'title', 'zip_code', 'addr_state', 'dti', 'delinq_2yrs',\n",
       "       'earliest_cr_line', 'inq_last_6mths', 'mths_since_last_delinq',\n",
       "       'mths_since_last_record', 'open_acc', 'pub_rec', 'revol_bal',\n",
       "       'revol_util', 'total_acc', 'initial_list_status', 'out_prncp',\n",
       "       'out_prncp_inv', 'total_pymnt', 'total_pymnt_inv', 'total_rec_prncp',\n",
       "       'total_rec_int', 'total_rec_late_fee', 'recoveries',\n",
       "       'collection_recovery_fee', 'last_pymnt_d', 'last_pymnt_amnt',\n",
       "       'next_pymnt_d', 'last_credit_pull_d', 'collections_12_mths_ex_med',\n",
       "       'mths_since_last_major_derog', 'policy_code', 'application_type',\n",
       "       'annual_inc_joint', 'dti_joint', 'verification_status_joint',\n",
       "       'acc_now_delinq', 'tot_coll_amt', 'tot_cur_bal', 'open_acc_6m',\n",
       "       'open_il_6m', 'open_il_12m', 'open_il_24m', 'mths_since_rcnt_il',\n",
       "       'total_bal_il', 'il_util', 'open_rv_12m', 'open_rv_24m', 'max_bal_bc',\n",
       "       'all_util', 'total_rev_hi_lim', 'inq_fi', 'total_cu_tl',\n",
       "       'inq_last_12m'],\n",
       "      dtype='object')"
      ]
     },
     "execution_count": 4,
     "metadata": {},
     "output_type": "execute_result"
    }
   ],
   "source": [
    "##printing the name of the columns of the data\n",
    "data.columns"
   ]
  },
  {
   "cell_type": "code",
   "execution_count": 5,
   "metadata": {
    "collapsed": true
   },
   "outputs": [],
   "source": [
    "##function to populate the Target variable\n",
    "def populate_target(row):\n",
    "    if row['loan_status'] == 'Fully Paid':\n",
    "        return 1\n",
    "    else:\n",
    "        return 0\n",
    "#Calling the populate_target function to populate the target variable.\n",
    "data['target'] = data.apply (lambda row: populate_target (row),axis=1)  "
   ]
  },
  {
   "cell_type": "code",
   "execution_count": 6,
   "metadata": {
    "collapsed": true
   },
   "outputs": [],
   "source": [
    "##dropping the loan_status column\n",
    "data.drop(['loan_status'],axis=1,inplace=True)"
   ]
  },
  {
   "cell_type": "code",
   "execution_count": 7,
   "metadata": {
    "collapsed": false
   },
   "outputs": [],
   "source": [
    "##dropping the columns which are not useful for prediction\n",
    "data.drop(['id','member_id','title', 'emp_title','zip_code', 'addr_state',\n",
    "              'issue_d','url','desc','earliest_cr_line',\n",
    "              'total_rec_late_fee', 'last_pymnt_d' ,'next_pymnt_d' , \n",
    "              'last_credit_pull_d'], axis=1, inplace=True)\n",
    "\n"
   ]
  },
  {
   "cell_type": "code",
   "execution_count": 8,
   "metadata": {
    "collapsed": false
   },
   "outputs": [
    {
     "data": {
      "text/plain": [
       "loan_amnt                           0\n",
       "funded_amnt                         0\n",
       "funded_amnt_inv                     0\n",
       "term                                0\n",
       "int_rate                            0\n",
       "installment                         0\n",
       "grade                               0\n",
       "sub_grade                           0\n",
       "emp_length                          0\n",
       "home_ownership                      0\n",
       "annual_inc                          4\n",
       "verification_status                 0\n",
       "pymnt_plan                          0\n",
       "purpose                             0\n",
       "dti                                 0\n",
       "delinq_2yrs                        29\n",
       "inq_last_6mths                     29\n",
       "mths_since_last_delinq         454312\n",
       "mths_since_last_record         750326\n",
       "open_acc                           29\n",
       "pub_rec                            29\n",
       "revol_bal                           0\n",
       "revol_util                        502\n",
       "total_acc                          29\n",
       "initial_list_status                 0\n",
       "out_prncp                           0\n",
       "out_prncp_inv                       0\n",
       "total_pymnt                         0\n",
       "total_pymnt_inv                     0\n",
       "total_rec_prncp                     0\n",
       "total_rec_int                       0\n",
       "recoveries                          0\n",
       "collection_recovery_fee             0\n",
       "last_pymnt_amnt                     0\n",
       "collections_12_mths_ex_med        145\n",
       "mths_since_last_major_derog    665676\n",
       "policy_code                         0\n",
       "application_type                    0\n",
       "annual_inc_joint               886868\n",
       "dti_joint                      886870\n",
       "verification_status_joint      886868\n",
       "acc_now_delinq                     29\n",
       "tot_coll_amt                    70276\n",
       "tot_cur_bal                     70276\n",
       "open_acc_6m                    866007\n",
       "open_il_6m                     866007\n",
       "open_il_12m                    866007\n",
       "open_il_24m                    866007\n",
       "mths_since_rcnt_il             866569\n",
       "total_bal_il                   866007\n",
       "il_util                        868762\n",
       "open_rv_12m                    866007\n",
       "open_rv_24m                    866007\n",
       "max_bal_bc                     866007\n",
       "all_util                       866007\n",
       "total_rev_hi_lim                70276\n",
       "inq_fi                         866007\n",
       "total_cu_tl                    866007\n",
       "inq_last_12m                   866007\n",
       "target                              0\n",
       "dtype: int64"
      ]
     },
     "execution_count": 8,
     "metadata": {},
     "output_type": "execute_result"
    }
   ],
   "source": [
    "##calculating the null values in each column\n",
    "data.isnull().sum()"
   ]
  },
  {
   "cell_type": "code",
   "execution_count": 9,
   "metadata": {
    "collapsed": false
   },
   "outputs": [],
   "source": [
    "##getting the names of the columns with nulls more than 50% of null values\n",
    "col_with_null_values = []\n",
    "j= 0\n",
    "for i in data.isnull().sum():\n",
    "    \n",
    "    if i >= (data.shape[0]/2):\n",
    "        col_with_null_values.append(j)\n",
    "        \n",
    "    j = j+1\n",
    "        \n"
   ]
  },
  {
   "cell_type": "code",
   "execution_count": 10,
   "metadata": {
    "collapsed": false
   },
   "outputs": [
    {
     "data": {
      "text/plain": [
       "20"
      ]
     },
     "execution_count": 10,
     "metadata": {},
     "output_type": "execute_result"
    }
   ],
   "source": [
    "##20 columns where found with more than 50% data as NAN\n",
    "len(col_with_null_values)"
   ]
  },
  {
   "cell_type": "code",
   "execution_count": 11,
   "metadata": {
    "collapsed": false
   },
   "outputs": [],
   "source": [
    "##dropping the column found above\n",
    "data = data.drop(data.columns[col_with_null_values],axis=1)"
   ]
  },
  {
   "cell_type": "code",
   "execution_count": 12,
   "metadata": {
    "collapsed": false
   },
   "outputs": [
    {
     "data": {
      "text/plain": [
       "(887379, 40)"
      ]
     },
     "execution_count": 12,
     "metadata": {},
     "output_type": "execute_result"
    }
   ],
   "source": [
    "data.shape"
   ]
  },
  {
   "cell_type": "code",
   "execution_count": 13,
   "metadata": {
    "collapsed": false,
    "scrolled": true
   },
   "outputs": [],
   "source": [
    "##dropping all the rows with at least one NAN value in it\n",
    "data = data.dropna()"
   ]
  },
  {
   "cell_type": "code",
   "execution_count": 14,
   "metadata": {
    "collapsed": false
   },
   "outputs": [
    {
     "data": {
      "text/plain": [
       "(816722, 40)"
      ]
     },
     "execution_count": 14,
     "metadata": {},
     "output_type": "execute_result"
    }
   ],
   "source": [
    "data.shape"
   ]
  },
  {
   "cell_type": "code",
   "execution_count": 16,
   "metadata": {
    "collapsed": true
   },
   "outputs": [],
   "source": [
    "##creating object of Label Encoder\n",
    "le = LabelEncoder()"
   ]
  },
  {
   "cell_type": "code",
   "execution_count": 17,
   "metadata": {
    "collapsed": false
   },
   "outputs": [],
   "source": [
    "##converting the term column in numeric form\n",
    "data['term'] = le.fit_transform(data['term'])"
   ]
  },
  {
   "cell_type": "code",
   "execution_count": 18,
   "metadata": {
    "collapsed": false
   },
   "outputs": [],
   "source": [
    "##keeping only the data were the term value is for 36 months to decrease the complexity of the data set\n",
    "data = data[data['term'] == 0]"
   ]
  },
  {
   "cell_type": "code",
   "execution_count": 19,
   "metadata": {
    "collapsed": false
   },
   "outputs": [],
   "source": [
    "##dropping the term column\n",
    "data = data.drop(['term'],axis=1)"
   ]
  },
  {
   "cell_type": "code",
   "execution_count": 20,
   "metadata": {
    "collapsed": false
   },
   "outputs": [
    {
     "data": {
      "text/plain": [
       "(566768, 39)"
      ]
     },
     "execution_count": 20,
     "metadata": {},
     "output_type": "execute_result"
    }
   ],
   "source": [
    "data.shape"
   ]
  },
  {
   "cell_type": "code",
   "execution_count": 21,
   "metadata": {
    "collapsed": true
   },
   "outputs": [],
   "source": [
    "##converting all the categorical data into numeric labels\n",
    "data['grade'] = le.fit_transform(data['grade'])\n",
    "data['sub_grade'] = le.fit_transform(data['sub_grade'])\n",
    "data['emp_length'] = le.fit_transform(data['emp_length'])\n",
    "data['home_ownership'] = le.fit_transform(data['home_ownership'])\n",
    "data['verification_status'] = le.fit_transform(data['verification_status'])\n",
    "data['pymnt_plan'] = le.fit_transform(data['pymnt_plan'])\n",
    "data['purpose'] = le.fit_transform(data['purpose'])\n",
    "data['application_type'] = le.fit_transform(data['application_type'])\n",
    "data['initial_list_status'] = le.fit_transform(data['initial_list_status'])"
   ]
  },
  {
   "cell_type": "code",
   "execution_count": 23,
   "metadata": {
    "collapsed": false
   },
   "outputs": [
    {
     "data": {
      "text/plain": [
       "Index(['loan_amnt', 'funded_amnt', 'funded_amnt_inv', 'int_rate',\n",
       "       'installment', 'grade', 'sub_grade', 'emp_length', 'home_ownership',\n",
       "       'annual_inc', 'verification_status', 'pymnt_plan', 'purpose', 'dti',\n",
       "       'delinq_2yrs', 'inq_last_6mths', 'open_acc', 'pub_rec', 'revol_bal',\n",
       "       'revol_util', 'total_acc', 'initial_list_status', 'out_prncp',\n",
       "       'out_prncp_inv', 'total_pymnt', 'total_pymnt_inv', 'total_rec_prncp',\n",
       "       'total_rec_int', 'recoveries', 'collection_recovery_fee',\n",
       "       'last_pymnt_amnt', 'collections_12_mths_ex_med', 'policy_code',\n",
       "       'application_type', 'acc_now_delinq', 'tot_coll_amt', 'tot_cur_bal',\n",
       "       'total_rev_hi_lim', 'target'],\n",
       "      dtype='object')"
      ]
     },
     "execution_count": 23,
     "metadata": {},
     "output_type": "execute_result"
    }
   ],
   "source": [
    "##final shape of the data after preprocessing\n",
    "data.columns"
   ]
  },
  {
   "cell_type": "code",
   "execution_count": 24,
   "metadata": {
    "collapsed": false
   },
   "outputs": [
    {
     "data": {
      "text/html": [
       "<div>\n",
       "<table border=\"1\" class=\"dataframe\">\n",
       "  <thead>\n",
       "    <tr style=\"text-align: right;\">\n",
       "      <th></th>\n",
       "      <th>loan_amnt</th>\n",
       "      <th>funded_amnt</th>\n",
       "      <th>funded_amnt_inv</th>\n",
       "      <th>int_rate</th>\n",
       "      <th>installment</th>\n",
       "      <th>grade</th>\n",
       "      <th>sub_grade</th>\n",
       "      <th>emp_length</th>\n",
       "      <th>home_ownership</th>\n",
       "      <th>annual_inc</th>\n",
       "      <th>...</th>\n",
       "      <th>collection_recovery_fee</th>\n",
       "      <th>last_pymnt_amnt</th>\n",
       "      <th>collections_12_mths_ex_med</th>\n",
       "      <th>policy_code</th>\n",
       "      <th>application_type</th>\n",
       "      <th>acc_now_delinq</th>\n",
       "      <th>tot_coll_amt</th>\n",
       "      <th>tot_cur_bal</th>\n",
       "      <th>total_rev_hi_lim</th>\n",
       "      <th>target</th>\n",
       "    </tr>\n",
       "  </thead>\n",
       "  <tbody>\n",
       "    <tr>\n",
       "      <th>count</th>\n",
       "      <td>566768.000000</td>\n",
       "      <td>566768.000000</td>\n",
       "      <td>566768.000000</td>\n",
       "      <td>566768.000000</td>\n",
       "      <td>566768.000000</td>\n",
       "      <td>566768.000000</td>\n",
       "      <td>566768.000000</td>\n",
       "      <td>566768.000000</td>\n",
       "      <td>566768.000000</td>\n",
       "      <td>5.667680e+05</td>\n",
       "      <td>...</td>\n",
       "      <td>566768.000000</td>\n",
       "      <td>566768.000000</td>\n",
       "      <td>566768.000000</td>\n",
       "      <td>566768.0</td>\n",
       "      <td>566768.000000</td>\n",
       "      <td>566768.000000</td>\n",
       "      <td>5.667680e+05</td>\n",
       "      <td>5.667680e+05</td>\n",
       "      <td>5.667680e+05</td>\n",
       "      <td>566768.000000</td>\n",
       "    </tr>\n",
       "    <tr>\n",
       "      <th>mean</th>\n",
       "      <td>12685.059451</td>\n",
       "      <td>12685.056584</td>\n",
       "      <td>12679.826333</td>\n",
       "      <td>12.054834</td>\n",
       "      <td>420.397599</td>\n",
       "      <td>1.430003</td>\n",
       "      <td>9.095912</td>\n",
       "      <td>4.136758</td>\n",
       "      <td>3.019950</td>\n",
       "      <td>7.308654e+04</td>\n",
       "      <td>...</td>\n",
       "      <td>2.906921</td>\n",
       "      <td>1905.469992</td>\n",
       "      <td>0.016268</td>\n",
       "      <td>1.0</td>\n",
       "      <td>0.000422</td>\n",
       "      <td>0.005186</td>\n",
       "      <td>2.418042e+02</td>\n",
       "      <td>1.281642e+05</td>\n",
       "      <td>3.046732e+04</td>\n",
       "      <td>0.215727</td>\n",
       "    </tr>\n",
       "    <tr>\n",
       "      <th>std</th>\n",
       "      <td>7844.833585</td>\n",
       "      <td>7844.836694</td>\n",
       "      <td>7841.882355</td>\n",
       "      <td>3.880450</td>\n",
       "      <td>261.123638</td>\n",
       "      <td>1.119844</td>\n",
       "      <td>5.523999</td>\n",
       "      <td>3.558198</td>\n",
       "      <td>1.920509</td>\n",
       "      <td>6.715269e+04</td>\n",
       "      <td>...</td>\n",
       "      <td>39.486982</td>\n",
       "      <td>4051.902963</td>\n",
       "      <td>0.144071</td>\n",
       "      <td>0.0</td>\n",
       "      <td>0.020531</td>\n",
       "      <td>0.080137</td>\n",
       "      <td>1.231101e+04</td>\n",
       "      <td>1.518399e+05</td>\n",
       "      <td>3.932970e+04</td>\n",
       "      <td>0.411326</td>\n",
       "    </tr>\n",
       "    <tr>\n",
       "      <th>min</th>\n",
       "      <td>1000.000000</td>\n",
       "      <td>1000.000000</td>\n",
       "      <td>900.000000</td>\n",
       "      <td>5.320000</td>\n",
       "      <td>30.120000</td>\n",
       "      <td>0.000000</td>\n",
       "      <td>0.000000</td>\n",
       "      <td>0.000000</td>\n",
       "      <td>0.000000</td>\n",
       "      <td>0.000000e+00</td>\n",
       "      <td>...</td>\n",
       "      <td>0.000000</td>\n",
       "      <td>0.000000</td>\n",
       "      <td>0.000000</td>\n",
       "      <td>1.0</td>\n",
       "      <td>0.000000</td>\n",
       "      <td>0.000000</td>\n",
       "      <td>0.000000e+00</td>\n",
       "      <td>0.000000e+00</td>\n",
       "      <td>0.000000e+00</td>\n",
       "      <td>0.000000</td>\n",
       "    </tr>\n",
       "    <tr>\n",
       "      <th>25%</th>\n",
       "      <td>7000.000000</td>\n",
       "      <td>7000.000000</td>\n",
       "      <td>7000.000000</td>\n",
       "      <td>8.900000</td>\n",
       "      <td>227.490000</td>\n",
       "      <td>1.000000</td>\n",
       "      <td>5.000000</td>\n",
       "      <td>1.000000</td>\n",
       "      <td>1.000000</td>\n",
       "      <td>4.300000e+04</td>\n",
       "      <td>...</td>\n",
       "      <td>0.000000</td>\n",
       "      <td>247.460000</td>\n",
       "      <td>0.000000</td>\n",
       "      <td>1.0</td>\n",
       "      <td>0.000000</td>\n",
       "      <td>0.000000</td>\n",
       "      <td>0.000000e+00</td>\n",
       "      <td>2.550400e+04</td>\n",
       "      <td>1.280000e+04</td>\n",
       "      <td>0.000000</td>\n",
       "    </tr>\n",
       "    <tr>\n",
       "      <th>50%</th>\n",
       "      <td>10000.000000</td>\n",
       "      <td>10000.000000</td>\n",
       "      <td>10000.000000</td>\n",
       "      <td>11.990000</td>\n",
       "      <td>347.810000</td>\n",
       "      <td>1.000000</td>\n",
       "      <td>8.000000</td>\n",
       "      <td>3.000000</td>\n",
       "      <td>4.000000</td>\n",
       "      <td>6.010950e+04</td>\n",
       "      <td>...</td>\n",
       "      <td>0.000000</td>\n",
       "      <td>421.610000</td>\n",
       "      <td>0.000000</td>\n",
       "      <td>1.0</td>\n",
       "      <td>0.000000</td>\n",
       "      <td>0.000000</td>\n",
       "      <td>0.000000e+00</td>\n",
       "      <td>6.439700e+04</td>\n",
       "      <td>2.190000e+04</td>\n",
       "      <td>0.000000</td>\n",
       "    </tr>\n",
       "    <tr>\n",
       "      <th>75%</th>\n",
       "      <td>16800.000000</td>\n",
       "      <td>16800.000000</td>\n",
       "      <td>16800.000000</td>\n",
       "      <td>14.480000</td>\n",
       "      <td>554.890000</td>\n",
       "      <td>2.000000</td>\n",
       "      <td>13.000000</td>\n",
       "      <td>7.000000</td>\n",
       "      <td>5.000000</td>\n",
       "      <td>8.800000e+04</td>\n",
       "      <td>...</td>\n",
       "      <td>0.000000</td>\n",
       "      <td>858.050000</td>\n",
       "      <td>0.000000</td>\n",
       "      <td>1.0</td>\n",
       "      <td>0.000000</td>\n",
       "      <td>0.000000</td>\n",
       "      <td>0.000000e+00</td>\n",
       "      <td>1.900892e+05</td>\n",
       "      <td>3.740000e+04</td>\n",
       "      <td>0.000000</td>\n",
       "    </tr>\n",
       "    <tr>\n",
       "      <th>max</th>\n",
       "      <td>35000.000000</td>\n",
       "      <td>35000.000000</td>\n",
       "      <td>35000.000000</td>\n",
       "      <td>28.990000</td>\n",
       "      <td>1445.460000</td>\n",
       "      <td>6.000000</td>\n",
       "      <td>34.000000</td>\n",
       "      <td>11.000000</td>\n",
       "      <td>5.000000</td>\n",
       "      <td>9.000000e+06</td>\n",
       "      <td>...</td>\n",
       "      <td>5694.093600</td>\n",
       "      <td>36188.840000</td>\n",
       "      <td>20.000000</td>\n",
       "      <td>1.0</td>\n",
       "      <td>1.000000</td>\n",
       "      <td>14.000000</td>\n",
       "      <td>9.152545e+06</td>\n",
       "      <td>8.000078e+06</td>\n",
       "      <td>9.999999e+06</td>\n",
       "      <td>1.000000</td>\n",
       "    </tr>\n",
       "  </tbody>\n",
       "</table>\n",
       "<p>8 rows × 39 columns</p>\n",
       "</div>"
      ],
      "text/plain": [
       "           loan_amnt    funded_amnt  funded_amnt_inv       int_rate  \\\n",
       "count  566768.000000  566768.000000    566768.000000  566768.000000   \n",
       "mean    12685.059451   12685.056584     12679.826333      12.054834   \n",
       "std      7844.833585    7844.836694      7841.882355       3.880450   \n",
       "min      1000.000000    1000.000000       900.000000       5.320000   \n",
       "25%      7000.000000    7000.000000      7000.000000       8.900000   \n",
       "50%     10000.000000   10000.000000     10000.000000      11.990000   \n",
       "75%     16800.000000   16800.000000     16800.000000      14.480000   \n",
       "max     35000.000000   35000.000000     35000.000000      28.990000   \n",
       "\n",
       "         installment          grade      sub_grade     emp_length  \\\n",
       "count  566768.000000  566768.000000  566768.000000  566768.000000   \n",
       "mean      420.397599       1.430003       9.095912       4.136758   \n",
       "std       261.123638       1.119844       5.523999       3.558198   \n",
       "min        30.120000       0.000000       0.000000       0.000000   \n",
       "25%       227.490000       1.000000       5.000000       1.000000   \n",
       "50%       347.810000       1.000000       8.000000       3.000000   \n",
       "75%       554.890000       2.000000      13.000000       7.000000   \n",
       "max      1445.460000       6.000000      34.000000      11.000000   \n",
       "\n",
       "       home_ownership    annual_inc      ...        collection_recovery_fee  \\\n",
       "count   566768.000000  5.667680e+05      ...                  566768.000000   \n",
       "mean         3.019950  7.308654e+04      ...                       2.906921   \n",
       "std          1.920509  6.715269e+04      ...                      39.486982   \n",
       "min          0.000000  0.000000e+00      ...                       0.000000   \n",
       "25%          1.000000  4.300000e+04      ...                       0.000000   \n",
       "50%          4.000000  6.010950e+04      ...                       0.000000   \n",
       "75%          5.000000  8.800000e+04      ...                       0.000000   \n",
       "max          5.000000  9.000000e+06      ...                    5694.093600   \n",
       "\n",
       "       last_pymnt_amnt  collections_12_mths_ex_med  policy_code  \\\n",
       "count    566768.000000               566768.000000     566768.0   \n",
       "mean       1905.469992                    0.016268          1.0   \n",
       "std        4051.902963                    0.144071          0.0   \n",
       "min           0.000000                    0.000000          1.0   \n",
       "25%         247.460000                    0.000000          1.0   \n",
       "50%         421.610000                    0.000000          1.0   \n",
       "75%         858.050000                    0.000000          1.0   \n",
       "max       36188.840000                   20.000000          1.0   \n",
       "\n",
       "       application_type  acc_now_delinq  tot_coll_amt   tot_cur_bal  \\\n",
       "count     566768.000000   566768.000000  5.667680e+05  5.667680e+05   \n",
       "mean           0.000422        0.005186  2.418042e+02  1.281642e+05   \n",
       "std            0.020531        0.080137  1.231101e+04  1.518399e+05   \n",
       "min            0.000000        0.000000  0.000000e+00  0.000000e+00   \n",
       "25%            0.000000        0.000000  0.000000e+00  2.550400e+04   \n",
       "50%            0.000000        0.000000  0.000000e+00  6.439700e+04   \n",
       "75%            0.000000        0.000000  0.000000e+00  1.900892e+05   \n",
       "max            1.000000       14.000000  9.152545e+06  8.000078e+06   \n",
       "\n",
       "       total_rev_hi_lim         target  \n",
       "count      5.667680e+05  566768.000000  \n",
       "mean       3.046732e+04       0.215727  \n",
       "std        3.932970e+04       0.411326  \n",
       "min        0.000000e+00       0.000000  \n",
       "25%        1.280000e+04       0.000000  \n",
       "50%        2.190000e+04       0.000000  \n",
       "75%        3.740000e+04       0.000000  \n",
       "max        9.999999e+06       1.000000  \n",
       "\n",
       "[8 rows x 39 columns]"
      ]
     },
     "execution_count": 24,
     "metadata": {},
     "output_type": "execute_result"
    }
   ],
   "source": [
    "##getting the statistics of all the columns\n",
    "data.describe()"
   ]
  },
  {
   "cell_type": "code",
   "execution_count": null,
   "metadata": {
    "collapsed": true
   },
   "outputs": [],
   "source": [
    "##histograms and bar plot for 10 selected columns"
   ]
  },
  {
   "cell_type": "code",
   "execution_count": 25,
   "metadata": {
    "collapsed": false
   },
   "outputs": [
    {
     "data": {
      "text/plain": [
       "<matplotlib.axes._subplots.AxesSubplot at 0x13baf4080>"
      ]
     },
     "execution_count": 25,
     "metadata": {},
     "output_type": "execute_result"
    },
    {
     "name": "stderr",
     "output_type": "stream",
     "text": [
      "/Users/prateekagrawal/anaconda/envs/python3/lib/python3.4/site-packages/matplotlib/font_manager.py:273: UserWarning: Matplotlib is building the font cache using fc-list. This may take a moment.\n",
      "  warnings.warn('Matplotlib is building the font cache using fc-list. This may take a moment.')\n",
      "/Users/prateekagrawal/anaconda/envs/python3/lib/python3.4/site-packages/matplotlib/font_manager.py:273: UserWarning: Matplotlib is building the font cache using fc-list. This may take a moment.\n",
      "  warnings.warn('Matplotlib is building the font cache using fc-list. This may take a moment.')\n"
     ]
    },
    {
     "data": {
      "image/png": "[encoded data removed]",
      "text/plain": [
       "<matplotlib.figure.Figure at 0x13b9929b0>"
      ]
     },
     "metadata": {},
     "output_type": "display_data"
    }
   ],
   "source": [
    "data.target.value_counts().plot(kind='bar')"
   ]
  },
  {
   "cell_type": "code",
   "execution_count": null,
   "metadata": {
    "collapsed": false
   },
   "outputs": [],
   "source": [
    "data.grade.value_counts().plot(kind='bar')\n",
    "plt.xlabel(\"grade\")\n",
    "plt.ylabel(\"frequency\")\n",
    "plt.title(\"grade\")"
   ]
  },
  {
   "cell_type": "code",
   "execution_count": null,
   "metadata": {
    "collapsed": false
   },
   "outputs": [],
   "source": [
    "data.emp_length.value_counts().plot(kind='bar')\n",
    "plt.xlabel(\"emplyment length\")\n",
    "plt.ylabel(\"frequency\")\n",
    "plt.title(\"emp_length\")"
   ]
  },
  {
   "cell_type": "code",
   "execution_count": null,
   "metadata": {
    "collapsed": false
   },
   "outputs": [],
   "source": [
    "data.home_ownership.value_counts().plot(kind='bar')\n",
    "plt.xlabel(\"home ownership\")\n",
    "plt.ylabel(\"frequency\")\n",
    "plt.title(\"home_ownership\")"
   ]
  },
  {
   "cell_type": "code",
   "execution_count": null,
   "metadata": {
    "collapsed": false
   },
   "outputs": [],
   "source": [
    "data.initial_list_status.value_counts().plot(kind='bar')\n",
    "plt.xlabel(\"initial list status\")\n",
    "plt.ylabel(\"frequency\")\n",
    "plt.title(\"initial_list_status\")"
   ]
  },
  {
   "cell_type": "code",
   "execution_count": null,
   "metadata": {
    "collapsed": false
   },
   "outputs": [],
   "source": [
    "data.purpose.value_counts().plot(kind='bar')\n",
    "plt.xlabel(\"purpose\")\n",
    "plt.ylabel(\"frequency\")\n",
    "plt.title(\"purpose\")"
   ]
  },
  {
   "cell_type": "code",
   "execution_count": null,
   "metadata": {
    "collapsed": false,
    "scrolled": true
   },
   "outputs": [],
   "source": [
    "data.verification_status.value_counts().plot(kind='bar')\n",
    "plt.xlabel(\"verification status\")\n",
    "plt.ylabel(\"frequency\")\n",
    "plt.title(\"verification_status\")"
   ]
  },
  {
   "cell_type": "code",
   "execution_count": null,
   "metadata": {
    "collapsed": false
   },
   "outputs": [],
   "source": [
    "data.sub_grade.value_counts().plot(kind='bar')\n",
    "plt.xlabel(\"sub_grade\")\n",
    "plt.ylabel(\"frequency\")\n",
    "plt.title(\"sub_grade\")"
   ]
  },
  {
   "cell_type": "code",
   "execution_count": null,
   "metadata": {
    "collapsed": false
   },
   "outputs": [],
   "source": [
    "plt.hist(data['int_rate'],bins=20)\n",
    "plt.xlabel(\"interest Rate\")\n",
    "plt.ylabel('Frequency')\n",
    "plt.title(\"int_rate\")"
   ]
  },
  {
   "cell_type": "code",
   "execution_count": null,
   "metadata": {
    "collapsed": false
   },
   "outputs": [],
   "source": [
    "plt.hist(data['funded_amnt'],bins=20)\n",
    "plt.xlabel(\"funded amount\")\n",
    "plt.ylabel('Frequency')\n",
    "plt.title(\"funded_amnt\")"
   ]
  },
  {
   "cell_type": "code",
   "execution_count": null,
   "metadata": {
    "collapsed": false
   },
   "outputs": [],
   "source": [
    "plt.hist(data['installment'],bins=20)\n",
    "plt.xlabel(\"installment\")\n",
    "plt.ylabel('Frequency')\n",
    "plt.title(\"installment\")\n"
   ]
  },
  {
   "cell_type": "code",
   "execution_count": null,
   "metadata": {
    "collapsed": false
   },
   "outputs": [],
   "source": [
    "data.corr()"
   ]
  },
  {
   "cell_type": "code",
   "execution_count": 26,
   "metadata": {
    "collapsed": false
   },
   "outputs": [
    {
     "data": {
      "text/plain": [
       "(566768, 39)"
      ]
     },
     "execution_count": 26,
     "metadata": {},
     "output_type": "execute_result"
    }
   ],
   "source": [
    "data.shape"
   ]
  },
  {
   "cell_type": "code",
   "execution_count": 27,
   "metadata": {
    "collapsed": false,
    "scrolled": true
   },
   "outputs": [
    {
     "data": {
      "text/plain": [
       "loan_amnt                     6.154131e+07\n",
       "funded_amnt                   6.154135e+07\n",
       "funded_amnt_inv               6.149501e+07\n",
       "int_rate                      1.505787e+01\n",
       "installment                   6.818543e+04\n",
       "grade                         1.254049e+00\n",
       "sub_grade                     3.051451e+01\n",
       "emp_length                    1.266075e+01\n",
       "home_ownership                3.688348e+00\n",
       "annual_inc                    4.509476e+09\n",
       "verification_status           6.472126e-01\n",
       "pymnt_plan                    7.057512e-06\n",
       "purpose                       5.221904e+00\n",
       "dti                           4.228595e+02\n",
       "delinq_2yrs                   7.967259e-01\n",
       "inq_last_6mths                9.168808e-01\n",
       "open_acc                      2.777138e+01\n",
       "pub_rec                       3.951103e-01\n",
       "revol_bal                     4.978398e+08\n",
       "revol_util                    5.544513e+02\n",
       "total_acc                     1.388828e+02\n",
       "initial_list_status           2.497502e-01\n",
       "out_prncp                     5.005568e+07\n",
       "out_prncp_inv                 5.002099e+07\n",
       "total_pymnt                   5.063274e+07\n",
       "total_pymnt_inv               5.057982e+07\n",
       "total_rec_prncp               3.813999e+07\n",
       "total_rec_int                 1.623740e+06\n",
       "recoveries                    7.599544e+04\n",
       "collection_recovery_fee       1.559219e+03\n",
       "last_pymnt_amnt               1.641789e+07\n",
       "collections_12_mths_ex_med    2.075631e-02\n",
       "policy_code                   0.000000e+00\n",
       "application_type              4.215115e-04\n",
       "acc_now_delinq                6.421957e-03\n",
       "tot_coll_amt                  1.515607e+08\n",
       "tot_cur_bal                   2.305532e+10\n",
       "total_rev_hi_lim              1.546822e+09\n",
       "target                        1.691887e-01\n",
       "dtype: float64"
      ]
     },
     "execution_count": 27,
     "metadata": {},
     "output_type": "execute_result"
    }
   ],
   "source": [
    "np.var(data)"
   ]
  },
  {
   "cell_type": "code",
   "execution_count": 28,
   "metadata": {
    "collapsed": false
   },
   "outputs": [],
   "source": [
    "sel = VarianceThreshold()"
   ]
  },
  {
   "cell_type": "code",
   "execution_count": 29,
   "metadata": {
    "collapsed": false
   },
   "outputs": [
    {
     "data": {
      "text/plain": [
       "VarianceThreshold(threshold=0.0)"
      ]
     },
     "execution_count": 29,
     "metadata": {},
     "output_type": "execute_result"
    }
   ],
   "source": [
    "sel.fit(data)"
   ]
  },
  {
   "cell_type": "code",
   "execution_count": 30,
   "metadata": {
    "collapsed": false
   },
   "outputs": [
    {
     "data": {
      "text/plain": [
       "array([ True,  True,  True,  True,  True,  True,  True,  True,  True,\n",
       "        True,  True,  True,  True,  True,  True,  True,  True,  True,\n",
       "        True,  True,  True,  True,  True,  True,  True,  True,  True,\n",
       "        True,  True,  True,  True,  True, False,  True,  True,  True,\n",
       "        True,  True,  True], dtype=bool)"
      ]
     },
     "execution_count": 30,
     "metadata": {},
     "output_type": "execute_result"
    }
   ],
   "source": [
    "sel.get_support()"
   ]
  },
  {
   "cell_type": "code",
   "execution_count": 31,
   "metadata": {
    "collapsed": true
   },
   "outputs": [],
   "source": [
    "col = data.columns"
   ]
  },
  {
   "cell_type": "code",
   "execution_count": 32,
   "metadata": {
    "collapsed": true
   },
   "outputs": [],
   "source": [
    "col = col[sel.get_support()]"
   ]
  },
  {
   "cell_type": "code",
   "execution_count": 33,
   "metadata": {
    "collapsed": false
   },
   "outputs": [
    {
     "data": {
      "text/plain": [
       "Index(['loan_amnt', 'funded_amnt', 'funded_amnt_inv', 'int_rate',\n",
       "       'installment', 'grade', 'sub_grade', 'emp_length', 'home_ownership',\n",
       "       'annual_inc', 'verification_status', 'pymnt_plan', 'purpose', 'dti',\n",
       "       'delinq_2yrs', 'inq_last_6mths', 'open_acc', 'pub_rec', 'revol_bal',\n",
       "       'revol_util', 'total_acc', 'initial_list_status', 'out_prncp',\n",
       "       'out_prncp_inv', 'total_pymnt', 'total_pymnt_inv', 'total_rec_prncp',\n",
       "       'total_rec_int', 'recoveries', 'collection_recovery_fee',\n",
       "       'last_pymnt_amnt', 'collections_12_mths_ex_med', 'application_type',\n",
       "       'acc_now_delinq', 'tot_coll_amt', 'tot_cur_bal', 'total_rev_hi_lim',\n",
       "       'target'],\n",
       "      dtype='object')"
      ]
     },
     "execution_count": 33,
     "metadata": {},
     "output_type": "execute_result"
    }
   ],
   "source": [
    "col"
   ]
  },
  {
   "cell_type": "code",
   "execution_count": 34,
   "metadata": {
    "collapsed": true
   },
   "outputs": [],
   "source": [
    "x = sel.fit_transform(data)"
   ]
  },
  {
   "cell_type": "code",
   "execution_count": 35,
   "metadata": {
    "collapsed": true
   },
   "outputs": [],
   "source": [
    "data = pd.DataFrame(x)"
   ]
  },
  {
   "cell_type": "code",
   "execution_count": 36,
   "metadata": {
    "collapsed": false
   },
   "outputs": [
    {
     "data": {
      "text/plain": [
       "(566768, 38)"
      ]
     },
     "execution_count": 36,
     "metadata": {},
     "output_type": "execute_result"
    }
   ],
   "source": [
    "data.shape"
   ]
  },
  {
   "cell_type": "code",
   "execution_count": 37,
   "metadata": {
    "collapsed": true
   },
   "outputs": [],
   "source": [
    "data.columns = col"
   ]
  },
  {
   "cell_type": "code",
   "execution_count": 38,
   "metadata": {
    "collapsed": true
   },
   "outputs": [],
   "source": [
    "X = data.corr()"
   ]
  },
  {
   "cell_type": "code",
   "execution_count": 39,
   "metadata": {
    "collapsed": false
   },
   "outputs": [
    {
     "data": {
      "text/plain": [
       "(38, 38)"
      ]
     },
     "execution_count": 39,
     "metadata": {},
     "output_type": "execute_result"
    }
   ],
   "source": [
    "X.shape"
   ]
  },
  {
   "cell_type": "code",
   "execution_count": 40,
   "metadata": {
    "collapsed": true
   },
   "outputs": [],
   "source": [
    "correlated = []\n",
    "for i in col:\n",
    "    for j in col:\n",
    "        if i!= j:\n",
    "            correlation=data[i].corr(data[j])\n",
    "            if correlation > 0.9 and (j,i) not in correlated:\n",
    "                correlated.append((i,j))\n",
    "        "
   ]
  },
  {
   "cell_type": "code",
   "execution_count": 41,
   "metadata": {
    "collapsed": false
   },
   "outputs": [
    {
     "data": {
      "text/plain": [
       "[('loan_amnt', 'funded_amnt'),\n",
       " ('loan_amnt', 'funded_amnt_inv'),\n",
       " ('loan_amnt', 'installment'),\n",
       " ('funded_amnt', 'funded_amnt_inv'),\n",
       " ('funded_amnt', 'installment'),\n",
       " ('funded_amnt_inv', 'installment'),\n",
       " ('int_rate', 'grade'),\n",
       " ('int_rate', 'sub_grade'),\n",
       " ('grade', 'sub_grade'),\n",
       " ('out_prncp', 'out_prncp_inv'),\n",
       " ('total_pymnt', 'total_pymnt_inv'),\n",
       " ('total_pymnt', 'total_rec_prncp'),\n",
       " ('total_pymnt_inv', 'total_rec_prncp')]"
      ]
     },
     "execution_count": 41,
     "metadata": {},
     "output_type": "execute_result"
    }
   ],
   "source": [
    "correlated"
   ]
  },
  {
   "cell_type": "code",
   "execution_count": 42,
   "metadata": {
    "collapsed": true
   },
   "outputs": [],
   "source": [
    "a=[]\n",
    "for i in correlated:\n",
    "    a.append(i[0])"
   ]
  },
  {
   "cell_type": "code",
   "execution_count": 43,
   "metadata": {
    "collapsed": false
   },
   "outputs": [
    {
     "data": {
      "text/plain": [
       "['loan_amnt',\n",
       " 'loan_amnt',\n",
       " 'loan_amnt',\n",
       " 'funded_amnt',\n",
       " 'funded_amnt',\n",
       " 'funded_amnt_inv',\n",
       " 'int_rate',\n",
       " 'int_rate',\n",
       " 'grade',\n",
       " 'out_prncp',\n",
       " 'total_pymnt',\n",
       " 'total_pymnt',\n",
       " 'total_pymnt_inv']"
      ]
     },
     "execution_count": 43,
     "metadata": {},
     "output_type": "execute_result"
    }
   ],
   "source": [
    "a"
   ]
  },
  {
   "cell_type": "code",
   "execution_count": 44,
   "metadata": {
    "collapsed": true
   },
   "outputs": [],
   "source": [
    "a = set(a)"
   ]
  },
  {
   "cell_type": "code",
   "execution_count": 47,
   "metadata": {
    "collapsed": true
   },
   "outputs": [],
   "source": [
    "data.drop(a,inplace=True,axis=1)"
   ]
  },
  {
   "cell_type": "code",
   "execution_count": 70,
   "metadata": {
    "collapsed": false
   },
   "outputs": [
    {
     "data": {
      "text/plain": [
       "(566768, 28)"
      ]
     },
     "execution_count": 70,
     "metadata": {},
     "output_type": "execute_result"
    }
   ],
   "source": [
    "data.shape"
   ]
  },
  {
   "cell_type": "code",
   "execution_count": 52,
   "metadata": {
    "collapsed": true
   },
   "outputs": [],
   "source": [
    "train_data, validation_data, train_label, validation_label = train_test_split(data.ix[:,:-1],data['target'],train_size=0.80, random_state=100)"
   ]
  },
  {
   "cell_type": "code",
   "execution_count": 111,
   "metadata": {
    "collapsed": false
   },
   "outputs": [
    {
     "name": "stdout",
     "output_type": "stream",
     "text": [
      "(453414, 27)\n",
      "(453414,)\n",
      "(113354, 27)\n",
      "(113354,)\n"
     ]
    }
   ],
   "source": [
    "print (train_data.shape)\n",
    "print (train_label.shape)\n",
    "print (validation_data.shape)\n",
    "print (validation_label.shape)"
   ]
  },
  {
   "cell_type": "code",
   "execution_count": 72,
   "metadata": {
    "collapsed": false
   },
   "outputs": [],
   "source": [
    "train_data.index = range(train_data.shape[0])\n",
    "train_label.index = range(train_label.shape[0])\n",
    "validation_data.index = range(validation_data.shape[0])\n",
    "validation_label.index = range(validation_label.shape[0])"
   ]
  },
  {
   "cell_type": "code",
   "execution_count": null,
   "metadata": {
    "collapsed": true
   },
   "outputs": [],
   "source": [
    "data_0 = data[data['target'] == 0]"
   ]
  },
  {
   "cell_type": "code",
   "execution_count": null,
   "metadata": {
    "collapsed": true
   },
   "outputs": [],
   "source": [
    "data_1 = data[data['target'] == 1].sample(n = sum(data['target'] == 0),replace = True)"
   ]
  },
  {
   "cell_type": "code",
   "execution_count": null,
   "metadata": {
    "collapsed": false
   },
   "outputs": [],
   "source": [
    "data_1.shape"
   ]
  },
  {
   "cell_type": "code",
   "execution_count": null,
   "metadata": {
    "collapsed": false
   },
   "outputs": [],
   "source": [
    "data_0.shape"
   ]
  },
  {
   "cell_type": "code",
   "execution_count": null,
   "metadata": {
    "collapsed": true
   },
   "outputs": [],
   "source": [
    "data = pd.concat([data_0,data_1]).sample(frac = 0.5,random_state = 100)"
   ]
  },
  {
   "cell_type": "code",
   "execution_count": null,
   "metadata": {
    "collapsed": false
   },
   "outputs": [],
   "source": [
    "data.shape"
   ]
  },
  {
   "cell_type": "code",
   "execution_count": null,
   "metadata": {
    "collapsed": false
   },
   "outputs": [],
   "source": [
    "data.target.value_counts()"
   ]
  },
  {
   "cell_type": "code",
   "execution_count": null,
   "metadata": {
    "collapsed": true
   },
   "outputs": [],
   "source": []
  },
  {
   "cell_type": "code",
   "execution_count": 55,
   "metadata": {
    "collapsed": true
   },
   "outputs": [],
   "source": [
    "forest = RFC(100)"
   ]
  },
  {
   "cell_type": "code",
   "execution_count": 56,
   "metadata": {
    "collapsed": false
   },
   "outputs": [
    {
     "data": {
      "text/plain": [
       "RandomForestClassifier(bootstrap=True, class_weight=None, criterion='gini',\n",
       "            max_depth=None, max_features='auto', max_leaf_nodes=None,\n",
       "            min_impurity_split=1e-07, min_samples_leaf=1,\n",
       "            min_samples_split=2, min_weight_fraction_leaf=0.0,\n",
       "            n_estimators=100, n_jobs=1, oob_score=False, random_state=None,\n",
       "            verbose=0, warm_start=False)"
      ]
     },
     "execution_count": 56,
     "metadata": {},
     "output_type": "execute_result"
    }
   ],
   "source": [
    "forest.fit(train_data,train_label)"
   ]
  },
  {
   "cell_type": "code",
   "execution_count": 57,
   "metadata": {
    "collapsed": true
   },
   "outputs": [],
   "source": [
    "importance = np.array(forest.feature_importances_)"
   ]
  },
  {
   "cell_type": "code",
   "execution_count": 58,
   "metadata": {
    "collapsed": false
   },
   "outputs": [
    {
     "data": {
      "text/plain": [
       "array([  2.68346885e-02,   3.68878409e-03,   7.19185932e-04,\n",
       "         2.65847559e-04,   2.18929025e-03,   1.01746033e-03,\n",
       "         6.11783542e-07,   9.44299377e-04,   2.14164906e-03,\n",
       "         2.66985235e-04,   1.01643423e-03,   9.13972529e-04,\n",
       "         2.56813941e-04,   3.15198969e-03,   1.48518551e-03,\n",
       "         1.07200033e-03,   3.01311139e-03,   4.12218251e-01,\n",
       "         1.69444447e-01,   1.97079543e-02,   1.30682474e-02,\n",
       "         9.06230423e-03,   3.23858679e-01,   3.10395396e-05,\n",
       "         1.30600488e-06,   1.64468838e-05,   4.28269904e-04,\n",
       "         1.48699050e-03,   1.69775457e-03])"
      ]
     },
     "execution_count": 58,
     "metadata": {},
     "output_type": "execute_result"
    }
   ],
   "source": [
    "importance"
   ]
  },
  {
   "cell_type": "code",
   "execution_count": 59,
   "metadata": {
    "collapsed": true
   },
   "outputs": [],
   "source": [
    "norm_importance = importance * 100/sum(importance)"
   ]
  },
  {
   "cell_type": "code",
   "execution_count": 60,
   "metadata": {
    "collapsed": true
   },
   "outputs": [],
   "source": [
    "index = np.argsort(norm_importance)[::-1]"
   ]
  },
  {
   "cell_type": "code",
   "execution_count": 61,
   "metadata": {
    "collapsed": true
   },
   "outputs": [],
   "source": [
    "norm_importance = norm_importance[index]"
   ]
  },
  {
   "cell_type": "code",
   "execution_count": 64,
   "metadata": {
    "collapsed": false
   },
   "outputs": [
    {
     "data": {
      "text/plain": [
       "Index(['out_prncp_inv', 'last_pymnt_amnt', 'total_rec_prncp', 'installment',\n",
       "       'total_rec_int', 'recoveries', 'collection_recovery_fee', 'sub_grade',\n",
       "       'revol_bal', 'initial_list_status', 'annual_inc', 'dti',\n",
       "       'total_rev_hi_lim', 'tot_cur_bal', 'revol_util', 'total_acc',\n",
       "       'verification_status', 'inq_last_6mths', 'purpose', 'open_acc',\n",
       "       'emp_length', 'tot_coll_amt', 'delinq_2yrs', 'home_ownership',\n",
       "       'pub_rec', 'collections_12_mths_ex_med', 'acc_now_delinq',\n",
       "       'application_type', 'pymnt_plan'],\n",
       "      dtype='object')"
      ]
     },
     "execution_count": 64,
     "metadata": {},
     "output_type": "execute_result"
    }
   ],
   "source": [
    "train_data.columns[index]"
   ]
  },
  {
   "cell_type": "code",
   "execution_count": 65,
   "metadata": {
    "collapsed": false
   },
   "outputs": [],
   "source": [
    "train_data.drop(['application_type', 'pymnt_plan'],axis = 1, inplace=True)\n"
   ]
  },
  {
   "cell_type": "code",
   "execution_count": 73,
   "metadata": {
    "collapsed": true
   },
   "outputs": [],
   "source": [
    "validation_data.drop(['application_type', 'pymnt_plan'],axis = 1, inplace=True)"
   ]
  },
  {
   "cell_type": "code",
   "execution_count": 108,
   "metadata": {
    "collapsed": true
   },
   "outputs": [],
   "source": [
    "fold = KFold(5)\n",
    "k = fold.split(train_data)"
   ]
  },
  {
   "cell_type": "code",
   "execution_count": 110,
   "metadata": {
    "collapsed": false
   },
   "outputs": [
    {
     "name": "stdout",
     "output_type": "stream",
     "text": [
      "Iteration_1\n",
      "(362731, 27)\n",
      "(362731,)\n",
      "(90683, 27)\n",
      "(90683,)\n",
      "0.998301776518\n",
      "[ 0.99891587  0.99608302]\n",
      "[[70948   147]\n",
      " [    7 19581]]\n",
      "Iteration_2\n",
      "(362731, 27)\n",
      "(362731,)\n",
      "(90683, 27)\n",
      "(90683,)\n",
      "0.998401023345\n",
      "[ 0.99897825  0.99632474]\n",
      "[[70884   145]\n",
      " [    0 19654]]\n",
      "Iteration_3\n",
      "(362731, 27)\n",
      "(362731,)\n",
      "(90683, 27)\n",
      "(90683,)\n",
      "0.994078272664\n",
      "[ 0.99622482  0.98627336]\n",
      "[[70854   295]\n",
      " [  242 19292]]\n",
      "Iteration_4\n",
      "(362731, 27)\n",
      "(362731,)\n",
      "(90683, 27)\n",
      "(90683,)\n",
      "0.998048145738\n",
      "[ 0.99875172  0.99552703]\n",
      "[[70809   160]\n",
      " [   17 19697]]\n",
      "Iteration_5\n",
      "(362732, 27)\n",
      "(362732,)\n",
      "(90682, 27)\n",
      "(90682,)\n",
      "0.998786969851\n",
      "[ 0.99922725  0.99718064]\n",
      "[[71119   104]\n",
      " [    6 19453]]\n",
      "[array([ 0.99922725,  0.99718064]), array([ 0.99922725,  0.99718064]), array([ 0.99922725,  0.99718064]), array([ 0.99922725,  0.99718064]), array([ 0.99922725,  0.99718064])]\n"
     ]
    }
   ],
   "source": [
    "allFscore = []\n",
    "j = 0\n",
    "for trainIndex, testIndex in k:\n",
    "    \n",
    "    \n",
    "    \n",
    "    j += 1    \n",
    "    iteration = 'Iteration_' + str(j)\n",
    "    print (iteration)\n",
    "    train_data_cv = train_data.ix[trainIndex]\n",
    "    train_label_cv = train_label.ix[trainIndex]\n",
    "    test_data_cv =  train_data.ix[testIndex]\n",
    "    test_label_cv = train_label.ix[testIndex]\n",
    "    \n",
    "    print (train_data_cv.shape)\n",
    "    print (train_label_cv.shape)\n",
    "    print (test_data_cv.shape)\n",
    "    print (test_label_cv.shape)\n",
    "    \n",
    "    clf = LogisticRegression()\n",
    "    clf.fit(train_data_cv,train_label_cv)\n",
    "    prediction = clf.predict(test_data_cv)\n",
    "                    \n",
    "    accuracy = accuracy_score(test_label_cv,prediction)\n",
    "    precision,recall,fscore,support = precision_recall_fscore_support(test_label_cv,prediction)\n",
    "    confusionmatrix = confusion_matrix(test_label_cv,prediction)\n",
    "    \n",
    "    print (accuracy)               \n",
    "    print (fscore)\n",
    "    print (confusionmatrix)\n",
    "                   \n",
    "    allFscore.append(f_score)\n",
    "print (allFscore)"
   ]
  },
  {
   "cell_type": "code",
   "execution_count": 112,
   "metadata": {
    "collapsed": false
   },
   "outputs": [
    {
     "name": "stdout",
     "output_type": "stream",
     "text": [
      "0.993427669072\n",
      "[ 0.99581317  0.9847239 ]\n",
      "[[88597   439]\n",
      " [  306 24012]]\n"
     ]
    }
   ],
   "source": [
    "clf = LogisticRegression()\n",
    "clf.fit(train_data,train_label)\n",
    "prediction = clf.predict(validation_data)\n",
    "                    \n",
    "accuracy = accuracy_score(validation_label,prediction)\n",
    "precision,recall,fscore,support = precision_recall_fscore_support(validation_label,prediction)\n",
    "confusionmatrix = confusion_matrix(validation_label,prediction)\n",
    "    \n",
    "print (accuracy)               \n",
    "print (fscore)\n",
    "print (confusionmatrix)"
   ]
  },
  {
   "cell_type": "code",
   "execution_count": 113,
   "metadata": {
    "collapsed": false
   },
   "outputs": [
    {
     "data": {
      "text/plain": [
       "0.0    89036\n",
       "1.0    24318\n",
       "Name: target, dtype: int64"
      ]
     },
     "execution_count": 113,
     "metadata": {},
     "output_type": "execute_result"
    }
   ],
   "source": [
    "validation_label.value_counts()"
   ]
  },
  {
   "cell_type": "code",
   "execution_count": 117,
   "metadata": {
    "collapsed": false
   },
   "outputs": [
    {
     "data": {
      "text/plain": [
       "89036"
      ]
     },
     "execution_count": 117,
     "metadata": {},
     "output_type": "execute_result"
    }
   ],
   "source": [
    "88597 + 439"
   ]
  },
  {
   "cell_type": "code",
   "execution_count": 118,
   "metadata": {
    "collapsed": false
   },
   "outputs": [
    {
     "data": {
      "text/plain": [
       "24318"
      ]
     },
     "execution_count": 118,
     "metadata": {},
     "output_type": "execute_result"
    }
   ],
   "source": [
    "24012 + 306"
   ]
  },
  {
   "cell_type": "code",
   "execution_count": null,
   "metadata": {
    "collapsed": true
   },
   "outputs": [],
   "source": []
  }
 ],
 "metadata": {
  "kernelspec": {
   "display_name": "Python 3",
   "language": "python",
   "name": "python3"
  },
  "language_info": {
   "codemirror_mode": {
    "name": "ipython",
    "version": 3
   },
   "file_extension": ".py",
   "mimetype": "text/x-python",
   "name": "python",
   "nbconvert_exporter": "python",
   "pygments_lexer": "ipython3",
   "version": "3.5.2"
  }
 },
 "nbformat": 4,
 "nbformat_minor": 1
}
